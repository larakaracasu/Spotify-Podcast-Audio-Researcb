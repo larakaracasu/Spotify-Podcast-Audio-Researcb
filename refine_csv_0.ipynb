{
 "cells": [
  {
   "cell_type": "code",
   "execution_count": 1,
   "id": "c76f6dfc",
   "metadata": {},
   "outputs": [],
   "source": [
    "from IPython.display import display\n",
    "import pandas as pd\n",
    "import pickle"
   ]
  },
  {
   "cell_type": "code",
   "execution_count": 2,
   "id": "c140a7b8",
   "metadata": {},
   "outputs": [],
   "source": [
    "pd.set_option('display.max_columns', None)\n",
    "pd.set_option('display.min_rows', 50)\n",
    "pd.set_option('display.max_rows', 100)"
   ]
  },
  {
   "cell_type": "code",
   "execution_count": 29,
   "id": "3452f7aa",
   "metadata": {},
   "outputs": [],
   "source": [
    "metadata = pd.read_csv('../metadata.tsv', sep='\\t')\n",
    "data = metadata[['show_name', 'episode_name',\n",
    "                'rss_link', 'duration','show_filename_prefix', 'episode_filename_prefix']].copy()"
   ]
  },
  {
   "cell_type": "code",
   "execution_count": 35,
   "id": "f5ee43d5",
   "metadata": {},
   "outputs": [
    {
     "data": {
      "text/plain": [
       "94"
      ]
     },
     "execution_count": 35,
     "metadata": {},
     "output_type": "execute_result"
    }
   ],
   "source": [
    "at_least_ep = 100\n",
    "\n",
    "num_of_ep = data['show_name'].value_counts(dropna=False)\n",
    "lengthy_pods = num_of_ep[num_of_ep > at_least_ep].to_frame()\n",
    "lp_list = lengthy_pods.index.to_list()\n",
    "long_shows = data[data['show_name'].isin(lp_list)]\n",
    "len(lp_list)"
   ]
  },
  {
   "cell_type": "code",
   "execution_count": 1,
   "id": "56b96b76",
   "metadata": {},
   "outputs": [
    {
     "ename": "NameError",
     "evalue": "name 'long_shows' is not defined",
     "output_type": "error",
     "traceback": [
      "\u001b[1;31m---------------------------------------------------------------------------\u001b[0m",
      "\u001b[1;31mNameError\u001b[0m                                 Traceback (most recent call last)",
      "\u001b[1;32m~\\AppData\\Local\\Temp\\ipykernel_2968\\451819742.py\u001b[0m in \u001b[0;36m<module>\u001b[1;34m\u001b[0m\n\u001b[0;32m      1\u001b[0m \u001b[0mlist_vals\u001b[0m \u001b[1;33m=\u001b[0m \u001b[1;32mlambda\u001b[0m \u001b[0mx\u001b[0m\u001b[1;33m:\u001b[0m \u001b[0mlist\u001b[0m\u001b[1;33m(\u001b[0m\u001b[0mx\u001b[0m\u001b[1;33m)\u001b[0m\u001b[1;33m\u001b[0m\u001b[1;33m\u001b[0m\u001b[0m\n\u001b[0;32m      2\u001b[0m \u001b[0mcommon_val\u001b[0m \u001b[1;33m=\u001b[0m \u001b[1;32mlambda\u001b[0m \u001b[0mx\u001b[0m\u001b[1;33m:\u001b[0m \u001b[0mx\u001b[0m\u001b[1;33m.\u001b[0m\u001b[0mmode\u001b[0m\u001b[1;33m(\u001b[0m\u001b[1;33m)\u001b[0m\u001b[1;33m\u001b[0m\u001b[1;33m\u001b[0m\u001b[0m\n\u001b[1;32m----> 3\u001b[1;33m table = long_shows.groupby('show_name')[['show_name', 'episode_name', 'rss_link', 'duration', 'show_filename_prefix', \n\u001b[0m\u001b[0;32m      4\u001b[0m                                          \u001b[1;34m'episode_filename_prefix'\u001b[0m\u001b[1;33m]\u001b[0m\u001b[1;33m]\u001b[0m\u001b[1;33m.\u001b[0m\u001b[0magg\u001b[0m\u001b[1;33m(\u001b[0m\u001b[1;33m{\u001b[0m\u001b[1;34m'episode_name'\u001b[0m\u001b[1;33m:\u001b[0m \u001b[0mlist_vals\u001b[0m\u001b[1;33m,\u001b[0m\u001b[1;33m\u001b[0m\u001b[1;33m\u001b[0m\u001b[0m\n\u001b[0;32m      5\u001b[0m                                                                           \u001b[1;34m'rss_link'\u001b[0m\u001b[1;33m:\u001b[0m \u001b[0mcommon_val\u001b[0m\u001b[1;33m,\u001b[0m\u001b[1;33m\u001b[0m\u001b[1;33m\u001b[0m\u001b[0m\n",
      "\u001b[1;31mNameError\u001b[0m: name 'long_shows' is not defined"
     ]
    }
   ],
   "source": [
    "list_vals = lambda x: list(x)\n",
    "common_val = lambda x: x.mode()\n",
    "table = long_shows.groupby('show_name')[['show_name', 'episode_name', 'rss_link', 'duration', 'show_filename_prefix', \n",
    "                                         'episode_filename_prefix']].agg({'episode_name': list_vals, \n",
    "                                                                          'rss_link': common_val,\n",
    "                                                                          'duration': list_vals,\n",
    "                                                                          'show_filename_prefix': list_vals,\n",
    "                                                                          'episode_filename_prefix': list_vals})"
   ]
  }
 ],
 "metadata": {
  "kernelspec": {
   "display_name": "Python 3 (ipykernel)",
   "language": "python",
   "name": "python3"
  },
  "language_info": {
   "codemirror_mode": {
    "name": "ipython",
    "version": 3
   },
   "file_extension": ".py",
   "mimetype": "text/x-python",
   "name": "python",
   "nbconvert_exporter": "python",
   "pygments_lexer": "ipython3",
   "version": "3.9.13"
  }
 },
 "nbformat": 4,
 "nbformat_minor": 5
}
