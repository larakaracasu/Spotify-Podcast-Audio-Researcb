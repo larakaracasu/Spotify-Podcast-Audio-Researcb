{
 "cells": [
  {
   "cell_type": "code",
   "execution_count": 1,
   "id": "c76f6dfc",
   "metadata": {},
   "outputs": [],
   "source": [
    "# Save to CSV\n",
    "\n",
    "#pods.to_csv(\"../refined_metadata.csv\", index=False)\n",
    "#test_csv = pd.read_csv('../refined_metadata.csv', sep=',')\n",
    "#test_csv\n",
    "\n",
    "\n",
    "\n",
    "\n",
    "# Load libraries\n",
    "\n",
    "from IPython.display import display\n",
    "from requests_html import HTMLSession\n",
    "from bs4.builder import XMLParsedAsHTMLWarning\n",
    "import pandas as pd\n",
    "import re\n",
    "import requests as rq\n",
    "from time import strptime\n",
    "import warnings"
   ]
  },
  {
   "cell_type": "code",
   "execution_count": 2,
   "id": "c140a7b8",
   "metadata": {},
   "outputs": [],
   "source": [
    "# Set library config\n",
    "\n",
    "warnings.filterwarnings('ignore', category=XMLParsedAsHTMLWarning)\n",
    "pd.set_option('display.max_columns', None)\n",
    "pd.set_option('display.min_rows', 50)\n",
    "pd.set_option('display.max_rows', 100)"
   ]
  },
  {
   "cell_type": "code",
   "execution_count": 3,
   "id": "3452f7aa",
   "metadata": {},
   "outputs": [],
   "source": [
    "# Load TSV and grab relevant information\n",
    "\n",
    "metadata = pd.read_csv('./metadata.tsv', sep='\\t')\n",
    "data = metadata[['show_name', 'episode_name',\n",
    "                'rss_link', 'duration','show_filename_prefix', 'episode_filename_prefix']].copy()"
   ]
  },
  {
   "cell_type": "code",
   "execution_count": 57,
   "id": "f5ee43d5",
   "metadata": {
    "scrolled": true
   },
   "outputs": [
    {
     "data": {
      "text/plain": [
       "962"
      ]
     },
     "execution_count": 57,
     "metadata": {},
     "output_type": "execute_result"
    }
   ],
   "source": [
    "# Isolate shows with enough episodes\n",
    "\n",
    "at_least_ep = 20\n",
    "\n",
    "num_of_ep = data['show_name'].value_counts(dropna=False)\n",
    "lengthy_pods = num_of_ep[num_of_ep > at_least_ep].to_frame()\n",
    "lp_list = lengthy_pods.index.to_list()\n",
    "long_shows = data[data['show_name'].isin(lp_list)]\n",
    "len(lp_list)"
   ]
  },
  {
   "cell_type": "code",
   "execution_count": 58,
   "id": "b585ea0e",
   "metadata": {},
   "outputs": [],
   "source": [
    "# Groupby show_name\n",
    "\n",
    "list_vals = lambda x: list(x)\n",
    "common_val = lambda x: x.mode()\n",
    "pods = long_shows.groupby('show_name')[['show_name', 'episode_name', 'rss_link', 'duration', 'show_filename_prefix', 'episode_filename_prefix'\n",
    "                                        ]].agg({'episode_name': list_vals, 'rss_link': common_val, 'duration': list_vals, 'show_filename_prefix': list_vals, 'episode_filename_prefix': list_vals\n",
    "                                               })#.reset_index()"
   ]
  },
  {
   "cell_type": "code",
   "execution_count": 59,
   "id": "115849ff",
   "metadata": {},
   "outputs": [],
   "source": [
    "# Get all unique RSS feeds\n",
    "\n",
    "def get_rss(p):\n",
    "    unique_links = {}\n",
    "    for link in p['rss_link']:\n",
    "        f_link = link.split(\"/\", 3)[2]\n",
    "        if f_link not in unique_links:\n",
    "            unique_links[f_link] = 0\n",
    "        unique_links[f_link] += 1\n",
    "    return unique_links\n",
    "\n",
    "unique_links = get_rss(pods)"
   ]
  },
  {
   "cell_type": "code",
   "execution_count": 4,
   "id": "ee692c60",
   "metadata": {},
   "outputs": [],
   "source": [
    "# Select only RSS feeds with significant episodes\n",
    "\n",
    "threshold = 70\n",
    "\n",
    "unique_links = dict((key, val) for key, val in unique_links.items() if val >= threshold)\n",
    "keep_links = list(unique_links.keys())\n",
    "keep_links\n",
    "\n",
    "# Drop shows that don't use chosen feeds\n",
    "\n",
    "pods = pods[pods.rss_link.str.contains('|'.join(keep_links))].reset_index()\n",
    "\n",
    "get_rss(pods)"
   ]
  },
  {
   "cell_type": "code",
   "execution_count": 61,
   "id": "9d3eceec",
   "metadata": {},
   "outputs": [],
   "source": [
    "# Define functions for scraping RSS feeds\n",
    "\n",
    "# Start HTTP session\n",
    "\n",
    "def pull_http(url):\n",
    "    try:\n",
    "        s = HTMLSession()\n",
    "        http = s.get(url)\n",
    "        return http\n",
    "    except requests.exceptions.RequestException as e:\n",
    "        return e\n",
    "    \n",
    "# Get relevant data from RSS feed\n",
    "    \n",
    "def grab_episodes(r, pod, index):\n",
    "    eps = pod['episode_name'][index]\n",
    "    episodes, dates = [], []\n",
    "    columns = r.html.find(\"item\", first=False)\n",
    "    for column in columns:\n",
    "        date = column.find('pubDate', first=True).text\n",
    "        if (('2019' in date) or ('2020' in date)):\n",
    "            title = column.find('title', first=True).text\n",
    "            episodes.append(title)\n",
    "            dates.append(date)\n",
    "    return([episodes, dates])\n",
    "\n",
    "# Format retrieved data\n",
    "\n",
    "def format_rss(r, pod, index):\n",
    "    rss_episode = grab_episodes(r, pod, index)\n",
    "    rss_ep_names = rss_episode[0]\n",
    "    rss_ep_dates = rss_episode[1]\n",
    "    for i in range(0, len(rss_ep_names)):\n",
    "        rss_ep_names[i] = rss_ep_names[i].replace('<![CDATA[', '')\n",
    "        rss_ep_names[i] = rss_ep_names[i].replace(']]>', '').strip().lower()\n",
    "        rss_ep_dates[i] = rss_ep_dates[i].split(' ')[1:4]\n",
    "        rss_ep_dates[i][0], rss_ep_dates[i][1] = rss_ep_dates[i][1], rss_ep_dates[i][0]\n",
    "        rss_ep_dates[i][0] = str(strptime(rss_ep_dates[i][0],'%b').tm_mon)\n",
    "        rss_ep_dates[i] = \"-\".join(rss_ep_dates[i])\n",
    "    return (rss_ep_names, rss_ep_dates)"
   ]
  },
  {
   "cell_type": "code",
   "execution_count": 67,
   "id": "7106ed75",
   "metadata": {},
   "outputs": [],
   "source": [
    "# Add dates column\n",
    "\n",
    "if 'episode_date' in pods.columns:\n",
    "    pods = pods.drop(columns=['episode_date'])\n",
    "episode_dates = [[]]*len(pods)\n",
    "pods.insert(2, 'episode_date', episode_dates)\n",
    "\n",
    "# Compare RSS episodes & DF episodes, fill in dates\n",
    "\n",
    "# def compare_rss(rss, frame, show):\n",
    "#     to_remove = []\n",
    "#     for ep in range(len(frame['episode_name'][show])):\n",
    "#         episode_name = frame['episode_name'][show][ep]\n",
    "#         if episode_name in rss[0]:\n",
    "#             date = rss[1][rss[0].index(episode_name)]\n",
    "#             p = frame['episode_date'][show].copy()\n",
    "#             p.append(date)\n",
    "#             #frame['episode_date'][show] = p\n",
    "#         else:\n",
    "#             to_remove.append(episode_name)\n",
    "#     for item in to_remove:\n",
    "#         frame['episode_name'][show].remove(item)\n",
    "#     return(len(to_remove))\n",
    "\n",
    "\n",
    "# TEMPORARY version of compare_rss : doesn't delete or add dates \n",
    "\n",
    "def compare_rss(rss, frame, show):\n",
    "    to_remove = []\n",
    "    for ep in range(len(frame['episode_name'][show])):\n",
    "        episode_name = frame['episode_name'][show][ep]\n",
    "        if episode_name in rss[0]:\n",
    "            date = rss[1][rss[0].index(episode_name)]\n",
    "            p = frame['episode_date'][show].copy()\n",
    "            p.append(date)\n",
    "            #frame['episode_date'][show] = p\n",
    "        else:\n",
    "            to_remove.append(episode_name)\n",
    "    return(len(to_remove))"
   ]
  },
  {
   "cell_type": "code",
   "execution_count": 63,
   "id": "bb6d43aa",
   "metadata": {},
   "outputs": [],
   "source": [
    "# Format episode names inside of dataframe\n",
    "\n",
    "for show in range(len(pods['episode_name'])):\n",
    "    for ep in range(len(pods['episode_name'][show])):\n",
    "        pods['episode_name'][show][ep] = pods['episode_name'][show][ep].strip().lower()"
   ]
  },
  {
   "cell_type": "code",
   "execution_count": 3,
   "id": "01468da3",
   "metadata": {},
   "outputs": [],
   "source": [
    "dropped = []\n",
    "for test in range(100):\n",
    "    url = pods['rss_link'][test]\n",
    "    try:\n",
    "        r = pull_http(url)\n",
    "        rss_eps = format_rss(r, pods, test)\n",
    "        dropped.append(compare_rss(rss_eps, pods, test))\n",
    "    except:\n",
    "        continue\n",
    "#print(dropped)"
   ]
  },
  {
   "cell_type": "code",
   "execution_count": 2,
   "id": "b68f2771",
   "metadata": {},
   "outputs": [],
   "source": [
    "test = 3\n",
    "url = pods['rss_link'][test]\n",
    "\n",
    "r = pull_http(url)\n",
    "rss_eps = format_rss(r, pods, test)\n",
    "\n",
    "#print(compare_rss(rss_eps, pods, test)) # What is being dropped\n",
    "#print(\"\")\n",
    "#print(rss_eps) # RSS episodes we pulled"
   ]
  }
 ],
 "metadata": {
  "kernelspec": {
   "display_name": "Python 3 (ipykernel)",
   "language": "python",
   "name": "python3"
  },
  "language_info": {
   "codemirror_mode": {
    "name": "ipython",
    "version": 3
   },
   "file_extension": ".py",
   "mimetype": "text/x-python",
   "name": "python",
   "nbconvert_exporter": "python",
   "pygments_lexer": "ipython3",
   "version": "3.9.13"
  }
 },
 "nbformat": 4,
 "nbformat_minor": 5
}
