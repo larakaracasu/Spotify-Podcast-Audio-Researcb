{
 "cells": [
  {
   "cell_type": "code",
   "execution_count": 1,
   "id": "c76f6dfc",
   "metadata": {},
   "outputs": [],
   "source": [
    "# Load libraries\n",
    "\n",
    "from IPython.display import display\n",
    "from requests_html import HTMLSession\n",
    "from bs4.builder import XMLParsedAsHTMLWarning\n",
    "import copy\n",
    "import pandas as pd\n",
    "import re\n",
    "import requests as rq\n",
    "from time import strptime\n",
    "import warnings"
   ]
  },
  {
   "cell_type": "code",
   "execution_count": 2,
   "id": "c140a7b8",
   "metadata": {},
   "outputs": [],
   "source": [
    "# Set library config\n",
    "\n",
    "warnings.filterwarnings('ignore', category=XMLParsedAsHTMLWarning)\n",
    "pd.set_option('display.max_columns', None)\n",
    "pd.set_option('display.min_rows', 50)\n",
    "pd.set_option('display.max_rows', 100)"
   ]
  },
  {
   "cell_type": "code",
   "execution_count": 3,
   "id": "3452f7aa",
   "metadata": {},
   "outputs": [],
   "source": [
    "# Load TSV and grab relevant information\n",
    "\n",
    "metadata = pd.read_csv('./metadata.tsv', sep='\\t')\n",
    "data = metadata[['show_name', 'episode_name',\n",
    "                'rss_link', 'duration','show_filename_prefix', 'episode_filename_prefix']].copy()"
   ]
  },
  {
   "cell_type": "code",
   "execution_count": 29,
   "id": "f5ee43d5",
   "metadata": {
    "scrolled": true
   },
   "outputs": [],
   "source": [
    "# Isolate shows with enough episodes\n",
    "\n",
    "at_least_ep = 200\n",
    "\n",
    "num_of_ep = data['show_name'].value_counts(dropna=False)\n",
    "lengthy_pods = num_of_ep[num_of_ep > at_least_ep].to_frame()\n",
    "lp_list = lengthy_pods.index.to_list()\n",
    "long_shows = data[data['show_name'].isin(lp_list)]\n",
    "len(lp_list)"
   ]
  },
  {
   "cell_type": "code",
   "execution_count": 5,
   "id": "b585ea0e",
   "metadata": {},
   "outputs": [],
   "source": [
    "# Groupby show_name\n",
    "\n",
    "list_vals = lambda x: list(x)\n",
    "common_val = lambda x: x.mode()\n",
    "pods = long_shows.groupby('show_name')[['show_name', 'episode_name', 'rss_link', 'duration', 'show_filename_prefix', 'episode_filename_prefix'\n",
    "                                        ]].agg({'episode_name': list_vals, 'rss_link': common_val, 'duration': list_vals, 'show_filename_prefix': list_vals, 'episode_filename_prefix': list_vals\n",
    "                                               })#.reset_index()"
   ]
  },
  {
   "cell_type": "code",
   "execution_count": 30,
   "id": "115849ff",
   "metadata": {},
   "outputs": [],
   "source": [
    "# Get all unique RSS feeds\n",
    "\n",
    "def get_rss(p):\n",
    "    unique_links = {}\n",
    "    for link in p['rss_link']:\n",
    "        f_link = link.split(\"/\", 3)[2]\n",
    "        if f_link not in unique_links:\n",
    "            unique_links[f_link] = 0\n",
    "        unique_links[f_link] += 1\n",
    "    return unique_links\n",
    "\n",
    "unique_links = get_rss(pods)\n",
    "unique_links"
   ]
  },
  {
   "cell_type": "code",
   "execution_count": 31,
   "id": "ee692c60",
   "metadata": {},
   "outputs": [],
   "source": [
    "# Select only RSS feeds with significant episodes\n",
    "\n",
    "threshold = 2\n",
    "\n",
    "unique_links = dict((key, val) for key, val in unique_links.items() if val >= threshold)\n",
    "keep_links = list(unique_links.keys())\n",
    "keep_links\n",
    "\n",
    "# Drop shows that don't use chosen feeds\n",
    "\n",
    "pods = pods[pods.rss_link.str.contains('|'.join(keep_links))].reset_index()\n",
    "\n",
    "get_rss(pods)"
   ]
  },
  {
   "cell_type": "code",
   "execution_count": 8,
   "id": "9d3eceec",
   "metadata": {},
   "outputs": [],
   "source": [
    "# Define functions for scraping RSS feeds\n",
    "\n",
    "# Start HTTP session\n",
    "\n",
    "def pull_http(url):\n",
    "    try:\n",
    "        s = HTMLSession()\n",
    "        http = s.get(url)\n",
    "        return http\n",
    "    except requests.exceptions.RequestException as e:\n",
    "        return e\n",
    "    \n",
    "# Get relevant data from RSS feed\n",
    "    \n",
    "def grab_episodes(r, pod, index):\n",
    "    eps = pod['episode_name'][index]\n",
    "    episodes, dates = [], []\n",
    "    columns = r.html.find(\"item\", first=False)\n",
    "    for column in columns:\n",
    "        date = column.find('pubDate', first=True).text\n",
    "        if (('2019' in date) or ('2020' in date)):\n",
    "            title = column.find('title', first=True).text\n",
    "            episodes.append(title)\n",
    "            dates.append(date)\n",
    "    return([episodes, dates])\n",
    "\n",
    "# Format retrieved data\n",
    "\n",
    "def format_rss(r, pod, index):\n",
    "    rss_episode = grab_episodes(r, pod, index)\n",
    "    rss_ep_names = rss_episode[0]\n",
    "    rss_ep_dates = rss_episode[1]\n",
    "    for i in range(0, len(rss_ep_names)):\n",
    "        rss_ep_names[i] = rss_ep_names[i].replace('<![CDATA[', '')\n",
    "        rss_ep_names[i] = rss_ep_names[i].replace(']]>', '').strip().lower()\n",
    "        rss_ep_dates[i] = rss_ep_dates[i].split(' ')[1:4]\n",
    "        rss_ep_dates[i][0], rss_ep_dates[i][1] = rss_ep_dates[i][1], rss_ep_dates[i][0]\n",
    "        rss_ep_dates[i][0] = str(strptime(rss_ep_dates[i][0],'%b').tm_mon)\n",
    "        rss_ep_dates[i] = \"-\".join(rss_ep_dates[i])\n",
    "    return (rss_ep_names, rss_ep_dates)"
   ]
  },
  {
   "cell_type": "code",
   "execution_count": 9,
   "id": "79a5580b",
   "metadata": {},
   "outputs": [],
   "source": [
    "# Add dates column and Twitter columns\n",
    "\n",
    "if 'episode_date' in pods.columns:\n",
    "    pods = pods.drop(columns=['episode_date'])\n",
    "episode_dates = [[]]*len(pods)\n",
    "pods.insert(2, 'episode_date', episode_dates)\n",
    "\n",
    "twitter_attributes = ['twitter_views', 'twitter_likes', \n",
    "                      'twitter_retweets', 'twitter_comments']\n",
    "\n",
    "for att in twitter_attributes:\n",
    "    if att in pods.columns:\n",
    "        pods = pods.drop(columns=[att])\n",
    "    att_vals = [None]*len(pods)\n",
    "    pods.insert(5, att, att_vals)\n",
    "    \n",
    "# Format episode names inside of dataframe\n",
    "\n",
    "for show in range(len(pods['episode_name'])):\n",
    "    for ep in range(len(pods['episode_name'][show])):\n",
    "        pods['episode_name'][show][ep] = pods['episode_name'][show][ep].strip().lower()"
   ]
  },
  {
   "cell_type": "code",
   "execution_count": 10,
   "id": "7106ed75",
   "metadata": {},
   "outputs": [],
   "source": [
    "# Compare RSS episodes & DF episodes, fill in dates\n",
    "\n",
    "def compare_rss(rss, frame, show):\n",
    "    to_remove = []\n",
    "    for ep in range(len(frame['episode_name'][show])):\n",
    "        episode_name = frame['episode_name'][show][ep]\n",
    "        if episode_name in rss[0]:\n",
    "            date = rss[1][rss[0].index(episode_name)]\n",
    "            p = frame['episode_date'][show].copy()\n",
    "            p.append(date)\n",
    "            frame['episode_date'][show] = p\n",
    "        else:\n",
    "            to_remove.append(episode_name)\n",
    "    for item in to_remove:\n",
    "        frame['episode_name'][show].remove(item)\n",
    "    return(len(to_remove))\n"
   ]
  },
  {
   "cell_type": "code",
   "execution_count": 11,
   "id": "bb6d43aa",
   "metadata": {
    "scrolled": true
   },
   "outputs": [],
   "source": [
    "# Request data from RSS feeds, compare to DF, add dates, remove eps w/o date\n",
    "\n",
    "eps_dropped = []\n",
    "for show in range(len(pods['rss_link'])):\n",
    "    url = pods['rss_link'][show]\n",
    "    try:\n",
    "        r = pull_http(url)\n",
    "        rss_eps = format_rss(r, pods, show)\n",
    "        eps_dropped.append(compare_rss(rss_eps, pods, show))\n",
    "    except:\n",
    "        continue"
   ]
  },
  {
   "cell_type": "code",
   "execution_count": 27,
   "id": "bdaf2150",
   "metadata": {},
   "outputs": [],
   "source": [
    "# Cut shows that have dropped below threshold\n",
    "\n",
    "at_least_ep_new = 200  # = at_least_ep , if want same as first cutoff\n",
    "\n",
    "keep_shows = []\n",
    "drop_shows = []  # print to see each dropped show + how many eps\n",
    "for show in range(len(pods['episode_name'])):\n",
    "    if len(pods['episode_name'][show]) >= at_least_ep_new:\n",
    "        keep_shows.append(pods['show_name'][show])\n",
    "    else:\n",
    "        drop_shows.append((pods['show_name'][show], len(pods['episode_name'][show])))\n",
    "\n",
    "pods = pods[pods['show_name'].isin(keep_shows)]"
   ]
  },
  {
   "cell_type": "code",
   "execution_count": 32,
   "id": "61a828d5",
   "metadata": {},
   "outputs": [],
   "source": [
    "# Save to CSV\n",
    "\n",
    "pods.to_csv(\"../refined_metadata.csv\", index=False)\n",
    "test_csv = pd.read_csv('../refined_metadata.csv', sep=',')\n",
    "test_csv"
   ]
  }
 ],
 "metadata": {
  "kernelspec": {
   "display_name": "Python 3 (ipykernel)",
   "language": "python",
   "name": "python3"
  },
  "language_info": {
   "codemirror_mode": {
    "name": "ipython",
    "version": 3
   },
   "file_extension": ".py",
   "mimetype": "text/x-python",
   "name": "python",
   "nbconvert_exporter": "python",
   "pygments_lexer": "ipython3",
   "version": "3.9.13"
  }
 },
 "nbformat": 4,
 "nbformat_minor": 5
}
