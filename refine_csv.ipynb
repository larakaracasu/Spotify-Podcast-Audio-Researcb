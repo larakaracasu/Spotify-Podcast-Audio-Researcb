{
 "cells": [
  {
   "cell_type": "code",
   "execution_count": 86,
   "id": "c76f6dfc",
   "metadata": {},
   "outputs": [],
   "source": [
    "# Load libraries\n",
    "\n",
    "from IPython.display import display\n",
    "from requests_html import HTMLSession\n",
    "from bs4.builder import XMLParsedAsHTMLWarning\n",
    "import pandas as pd\n",
    "import requests as rq\n",
    "import warnings\n"
   ]
  },
  {
   "cell_type": "code",
   "execution_count": 2,
   "id": "c140a7b8",
   "metadata": {},
   "outputs": [],
   "source": [
    "# Set library config\n",
    "\n",
    "warnings.filterwarnings('ignore', category=XMLParsedAsHTMLWarning)\n",
    "pd.set_option('display.max_columns', None)\n",
    "pd.set_option('display.min_rows', 50)\n",
    "pd.set_option('display.max_rows', 100)"
   ]
  },
  {
   "cell_type": "code",
   "execution_count": 29,
   "id": "3452f7aa",
   "metadata": {},
   "outputs": [],
   "source": [
    "# Load TSV and grab relevant information\n",
    "\n",
    "metadata = pd.read_csv('../metadata.tsv', sep='\\t')\n",
    "data = metadata[['show_name', 'episode_name',\n",
    "                'rss_link', 'duration','show_filename_prefix', 'episode_filename_prefix']].copy()"
   ]
  },
  {
   "cell_type": "code",
   "execution_count": 78,
   "id": "f5ee43d5",
   "metadata": {
    "scrolled": true
   },
   "outputs": [
    {
     "data": {
      "text/plain": [
       "10"
      ]
     },
     "execution_count": 78,
     "metadata": {},
     "output_type": "execute_result"
    }
   ],
   "source": [
    "# Isolate shows with enough episodes\n",
    "\n",
    "at_least_ep = 350\n",
    "\n",
    "num_of_ep = data['show_name'].value_counts(dropna=False)\n",
    "lengthy_pods = num_of_ep[num_of_ep > at_least_ep].to_frame()\n",
    "lp_list = lengthy_pods.index.to_list()\n",
    "long_shows = data[data['show_name'].isin(lp_list)]\n",
    "len(lp_list)"
   ]
  },
  {
   "cell_type": "code",
   "execution_count": 79,
   "id": "b585ea0e",
   "metadata": {},
   "outputs": [],
   "source": [
    "# Groupby show_name\n",
    "\n",
    "list_vals = lambda x: list(x)\n",
    "common_val = lambda x: x.mode()\n",
    "pods = long_shows.groupby('show_name')[['show_name', 'episode_name', 'rss_link', 'duration', 'show_filename_prefix', 'episode_filename_prefix'\n",
    "                                        ]].agg({'episode_name': list_vals, 'rss_link': common_val, 'duration': list_vals, 'show_filename_prefix': list_vals, 'episode_filename_prefix': list_vals\n",
    "                                               }).reset_index()"
   ]
  },
  {
   "cell_type": "code",
   "execution_count": 80,
   "id": "b7916582",
   "metadata": {},
   "outputs": [],
   "source": [
    "# Save to CSV\n",
    "\n",
    "#pods.to_csv(\"../refined_metadata.csv\", index=False)\n",
    "#test_csv = pd.read_csv('../refined_metadata.csv', sep=',')\n",
    "#test_csv"
   ]
  },
  {
   "cell_type": "code",
   "execution_count": 2,
   "id": "28ac5ae0",
   "metadata": {},
   "outputs": [],
   "source": [
    "# for show in range(len(pods)):\n",
    "#     rss = pods['rss_link'][show]\n",
    "#     episodes = pods['episode_name'][show]"
   ]
  },
  {
   "cell_type": "code",
   "execution_count": 1,
   "id": "9d3eceec",
   "metadata": {},
   "outputs": [],
   "source": [
    "# import sys\n",
    "# !{sys.executable} -m pip install requests_html"
   ]
  }
 ],
 "metadata": {
  "kernelspec": {
   "display_name": "Python 3 (ipykernel)",
   "language": "python",
   "name": "python3"
  },
  "language_info": {
   "codemirror_mode": {
    "name": "ipython",
    "version": 3
   },
   "file_extension": ".py",
   "mimetype": "text/x-python",
   "name": "python",
   "nbconvert_exporter": "python",
   "pygments_lexer": "ipython3",
   "version": "3.9.13"
  }
 },
 "nbformat": 4,
 "nbformat_minor": 5
}
