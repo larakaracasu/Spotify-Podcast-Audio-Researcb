{
 "cells": [
  {
   "cell_type": "code",
   "execution_count": 189,
   "metadata": {
    "collapsed": true
   },
   "outputs": [],
   "source": [
    "import pandas as pd\n",
    "import numpy as np\n",
    "from scipy.stats import ttest_ind as ttest\n",
    "import seaborn"
   ]
  },
  {
   "cell_type": "code",
   "execution_count": 197,
   "outputs": [],
   "source": [
    "# Read in CSV\n",
    "\n",
    "df = pd.read_csv('final_dataset.csv')"
   ],
   "metadata": {
    "collapsed": false
   }
  },
  {
   "cell_type": "code",
   "execution_count": 198,
   "outputs": [
    {
     "name": "stdout",
     "output_type": "stream",
     "text": [
      "Dropped 24\n"
     ]
    }
   ],
   "source": [
    "# Remove bad entries\n",
    "\n",
    "original_length = len(df.index)\n",
    "dropped = 0\n",
    "for i in range(original_length):\n",
    "    index = original_length - (i + 1)\n",
    "    if np.isnan(df[\"apple_stars\"][index]):\n",
    "        df = df.drop(index)\n",
    "        dropped += 1\n",
    "    else:\n",
    "        for column in df.columns:\n",
    "            if df[column][index] == \"[]\":\n",
    "                df = df.drop(index)\n",
    "                dropped += 1\n",
    "                break\n",
    "print(\"Dropped %d\" % dropped)"
   ],
   "metadata": {
    "collapsed": false
   }
  },
  {
   "cell_type": "code",
   "execution_count": 199,
   "outputs": [],
   "source": [
    "# Re-index df\n",
    "\n",
    "index_col = \"Unnamed: 0\"\n",
    "try:\n",
    "    del df[index_col]\n",
    "    df = df.reset_index()\n",
    "    del df[\"index\"]\n",
    "    df.index.name = None\n",
    "except KeyError:\n",
    "    print(\"Couldn't find pre-existing index column.\")"
   ],
   "metadata": {
    "collapsed": false
   }
  },
  {
   "cell_type": "code",
   "execution_count": 211,
   "outputs": [],
   "source": [
    "# Verifying our t tests from RStudio\n",
    "\n",
    "# This library doesn't use the exact same t-test (and the data is cleaned slightly differently),\n",
    "# but the p-values remain relatively similar. Those which we claimed are significant remain\n",
    "# significant (most importantly).\n",
    "\n",
    "attributes = [\"F0semitoneFrom27.5Hz_sma3nz_amean\", \"jitterLocal_sma3nz_amean\",\n",
    "              \"shimmerLocaldB_sma3nz_amean\", \"HNRdBACF_sma3nz_amean\", \"loudness_sma3_amean\"]\n",
    "\n",
    "results_df = pd.DataFrame(columns=['attribute', 'stars_t', 'stars_p', 'ratings_t', 'ratings_p'])\n",
    "\n",
    "for attribute in attributes:\n",
    "\n",
    "    test_df = pd.DataFrame(columns=[attribute, 'stars', 'ratings'])\n",
    "\n",
    "    for i in range(len(df[attribute])):\n",
    "        stars = float(df[\"apple_stars\"][i])\n",
    "        ratings = float(df[\"apple_ratings\"][i])\n",
    "        attribute_value = float(df[attribute][i])\n",
    "        if not np.isnan(stars):\n",
    "            test_df.loc[len(test_df.index)] = [attribute_value, stars, ratings]\n",
    "\n",
    "    # attribute_median = test_df.median()[0]\n",
    "    stars_low_limit, stars_high_limit = test_df[\"stars\"].quantile([0.5, 0.5])\n",
    "    ratings_low_limit, ratings_high_limit = test_df[\"ratings\"].quantile([0.5, 0.5])\n",
    "\n",
    "    for i in range(len(test_df[attribute])):\n",
    "\n",
    "        if test_df[\"stars\"][i] >= stars_high_limit:\n",
    "            test_df.at[i, \"stars\"] = \"H\"\n",
    "        elif test_df[\"stars\"][i] <= stars_low_limit:\n",
    "            test_df.at[i, \"stars\"] = \"L\"\n",
    "        else:\n",
    "            test_df.at[i, \"stars\"] = \"M\"\n",
    "\n",
    "        if test_df[\"ratings\"][i] >= ratings_high_limit:\n",
    "            test_df.at[i, \"ratings\"] = \"H\"\n",
    "        elif test_df[\"ratings\"][i] <= ratings_low_limit:\n",
    "            test_df.at[i, \"ratings\"] = \"L\"\n",
    "        else:\n",
    "            test_df.at[i, \"ratings\"] = \"M\"\n",
    "\n",
    "    stars_g1 = test_df[test_df[\"stars\"] == \"H\"]\n",
    "    stars_g2 = test_df[test_df[\"stars\"] == \"L\"]\n",
    "\n",
    "    t_stars, p_stars = ttest(stars_g1[attribute], stars_g2[attribute], alternative='two-sided', nan_policy='omit')\n",
    "\n",
    "    ratings_g1 = test_df[test_df[\"ratings\"] == \"H\"]\n",
    "    ratings_g2 = test_df[test_df[\"ratings\"] == \"L\"]\n",
    "\n",
    "    t_ratings, p_ratings = ttest(ratings_g1[attribute], ratings_g2[attribute], alternative='two-sided', nan_policy='omit')\n",
    "\n",
    "    results_df.loc[len(results_df.index)] = [attribute, t_stars, p_stars, t_ratings, p_ratings]\n"
   ],
   "metadata": {
    "collapsed": false
   }
  },
  {
   "cell_type": "markdown",
   "source": [],
   "metadata": {
    "collapsed": false
   }
  }
 ],
 "metadata": {
  "kernelspec": {
   "display_name": "Python 3",
   "language": "python",
   "name": "python3"
  },
  "language_info": {
   "codemirror_mode": {
    "name": "ipython",
    "version": 2
   },
   "file_extension": ".py",
   "mimetype": "text/x-python",
   "name": "python",
   "nbconvert_exporter": "python",
   "pygments_lexer": "ipython2",
   "version": "2.7.6"
  }
 },
 "nbformat": 4,
 "nbformat_minor": 0
}
